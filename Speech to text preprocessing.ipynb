{
 "cells": [
  {
   "cell_type": "markdown",
   "metadata": {},
   "source": [
    "### This function extracts the audio from the video and preprocess the extracted audio into a format that can be read by DeepSpeech"
   ]
  },
  {
   "cell_type": "code",
   "execution_count": 56,
   "metadata": {},
   "outputs": [],
   "source": [
    "import moviepy.editor\n",
    "from pydub import AudioSegment as am"
   ]
  },
  {
   "cell_type": "code",
   "execution_count": 2,
   "metadata": {},
   "outputs": [],
   "source": [
    "\n",
    "def processing(video_path, audio_exp):\n",
    "\n",
    "    ## To extract the audio from the video\n",
    "\n",
    "    video=moviepy.editor.VideoFileClip(video_path)\n",
    "    audio=video.audio\n",
    "    audio.write_audiofile(audio_exp)\n",
    "\n",
    "    ## To turn the audiofile into 16000Hz\n",
    "\n",
    "    sound = am.from_file(audio_exp, format='wav', frame_rate=22050)\n",
    "    sound = sound.set_frame_rate(16000)\n",
    "    sound.export(audio_exp, format='wav')\n",
    "\n",
    "    ## To change stereo to mono\n",
    "\n",
    "    sound = am.from_wav(audio_exp)\n",
    "    sound = sound.set_channels(1)\n",
    "    sound.export(audio_exp, format=\"wav\")\n",
    "\n",
    "    ## To change the bitrate to 256 kb/s\n",
    "\n",
    "    sound = am.from_file(audio_exp)\n",
    "    sound.export(audio_exp, format=\"wav\", bitrate=\"256k\")"
   ]
  }
 ],
 "metadata": {
  "kernelspec": {
   "display_name": "Python 3",
   "language": "python",
   "name": "python3"
  },
  "language_info": {
   "codemirror_mode": {
    "name": "ipython",
    "version": 3
   },
   "file_extension": ".py",
   "mimetype": "text/x-python",
   "name": "python",
   "nbconvert_exporter": "python",
   "pygments_lexer": "ipython3",
   "version": "3.8.3"
  }
 },
 "nbformat": 4,
 "nbformat_minor": 4
}

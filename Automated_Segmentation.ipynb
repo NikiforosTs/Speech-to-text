{
 "cells": [
  {
   "cell_type": "markdown",
   "metadata": {},
   "source": [
    "#### In order to use LIUM to create the automated segmentation I ran the following in command line:\n",
    "\n",
    "java -Xmx2024m -jar C:\\Users\\User\\Desktop\\segmentation\\LIUM_SpkDiarization-8.4.1.jar --fInputMask=C:\\Users\\User\\Desktop\\segmentation\\Italian1.wav --sOutputMask=./showName.seg --doCEClustering  showName\n",
    "\n",
    "#### Where:\n",
    "C:\\Users\\User\\Desktop\\segmentation\\ is the path where the .jar file is located\n",
    "\n",
    "C:\\Users\\User\\Desktop\\segmentation\\Italian1.wav is the location of the audio file\n",
    "\n",
    "#### The output of the programme is the showName.seg file which is a text file with the following structure:\n",
    "\n",
    "\n",
    ";; cluster S0 [ merge HCLR 3 = S0 in S131 with 1.56351112911687 ] [ score:FS = -34.5619721430013 ] [ score:FT = -35.1665267381045 ] [ score:MS = -34.968907976181235 ] [ score:MT = -35.46925334230626 ]<br> \n",
    "showName 1 32695 227 F S U S0<br>\n",
    "showName 1 88532 296 F S U S0<br>\n",
    "showName 1 117669 256 F S U S0<br>\n",
    "showName 1 126619 284 F S U S0<br>\n",
    "showName 1 183150 289 F S U S0<br>\n",
    ";; cluster S1 [ merge HCLR 1 = S1 in S11 with 1.3748881215990991 ] [ score:FS = -32.49370022840757 ] [ score:FT = <br>-33.54206287819715 ] [ score:MS = -33.941374848530764 ] [ score:MT = -34.53592820397898 ] <br>\n",
    "showName 1 715 1466 F S U S1<br>\n",
    "showName 1 2255 1305 F S U S1<br>\n",
    "showName 1 3663 1558 F S U S1<br>\n",
    "showName 1 5270 1738 F S U S1<br>\n",
    "               .\n",
    "               .\n",
    "               .\n",
    "\n",
    "#### Where for example:\n",
    "\n",
    "showName 1 1 317 F S U spk0\n",
    "               \n",
    "-field 1: showName = the show name<br>\n",
    "-field 2: 1 the channel number<br>\n",
    "-field 3: 1 the start of the segment (in features)<br>\n",
    "-field 4: 317 the length of the segment (in features)<br>\n",
    "-field 5: F the speaker gender (U=unknown, F=female, M=Male)<br>\n",
    "-field 6: S the type of band (T=telephone, S=studio)<br>\n",
    "-field 7: U the type of environment (music, speech only, …)<br>\n",
    "-field 8: spk0 the speaker label               \n",
    "\n"
   ]
  },
  {
   "cell_type": "markdown",
   "metadata": {},
   "source": [
    "#### So in order to get the imformation that I need I run the following code:"
   ]
  },
  {
   "cell_type": "code",
   "execution_count": null,
   "metadata": {},
   "outputs": [],
   "source": [
    "from pydub import AudioSegment as am"
   ]
  },
  {
   "cell_type": "markdown",
   "metadata": {},
   "source": [
    "Since LIUM does not provide the end of the segment, but only the start and the duration, from the output file of LIUM(.seg), for every line we store the value of the start of the segments in the list 'start' and the duration in the list 'dur'."
   ]
  },
  {
   "cell_type": "code",
   "execution_count": null,
   "metadata": {},
   "outputs": [],
   "source": [
    "start=[] #Creating two empty lists\n",
    "dur=[]\n",
    "\n",
    "with open('C:/Users/User/Desktop/segmentation/showName.seg') as f:\n",
    "    for line in f:\n",
    "        x=line.split()\n",
    "        \n",
    "        if x[0]==';;':        # To exclude the irrelevant lines, meaning those who refer to the seperation of the clusters\n",
    "            start=start\n",
    "            dur=dur\n",
    "        else:\n",
    "            start.append(int(x[2]))\n",
    "            dur.append(int(x[3]))\n",
    "            \n",
    "            \n",
    "end = [a + b for a, b in zip(start, dur)]    # Creating a list to store the end of the segments        "
   ]
  },
  {
   "cell_type": "code",
   "execution_count": null,
   "metadata": {},
   "outputs": [],
   "source": [
    "# The list 'seg' now will include all the segments in a format: (start,end)\n",
    "\n",
    "seg=[]\n",
    "for i in range(len(start)):\n",
    "    seg.append([start[i],end[i]])"
   ]
  },
  {
   "cell_type": "code",
   "execution_count": null,
   "metadata": {},
   "outputs": [],
   "source": [
    "# With the extracted audio as an input, the segmented .wav files are created and stored in a folder.\n",
    "\n",
    "for i in range(len(seg)):\n",
    "    t1=(seg[i][0])*10\n",
    "    t2=(seg[i][1])*10\n",
    "    \n",
    "    print(t1)\n",
    "    print(t2)\n",
    "    \n",
    "    newAudio = am.from_wav('C:/Users/...audiofile_path/...wav')\n",
    "    newAudio = newAudio[t1:t2]\n",
    "    newAudio.export('C:/Users/...path_to_store_the_segments.../segment'+ str(i) + '.wav', format='wav')"
   ]
  }
 ],
 "metadata": {
  "kernelspec": {
   "display_name": "Python 3",
   "language": "python",
   "name": "python3"
  },
  "language_info": {
   "codemirror_mode": {
    "name": "ipython",
    "version": 3
   },
   "file_extension": ".py",
   "mimetype": "text/x-python",
   "name": "python",
   "nbconvert_exporter": "python",
   "pygments_lexer": "ipython3",
   "version": "3.8.3"
  }
 },
 "nbformat": 4,
 "nbformat_minor": 4
}
